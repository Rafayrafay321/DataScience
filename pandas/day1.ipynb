{
 "cells": [
  {
   "cell_type": "code",
   "execution_count": 2,
   "id": "91afb6ca",
   "metadata": {},
   "outputs": [],
   "source": [
    "import pandas as pd\n",
    "import seaborn as sns\n",
    "import numpy as np\n",
    "\n",
    "titanic = sns.load_dataset(\"titanic\") #Pandas Dataframe\n",
    "\n",
    "# Writing a File\n",
    "titanic.to_excel(\"Datasets/titanic_data.xlsx\")\n",
    "titanic.to_csv(\"Datasets/titanic_data.csv\")"
   ]
  },
  {
   "cell_type": "code",
   "execution_count": null,
   "id": "16d83232",
   "metadata": {},
   "outputs": [],
   "source": [
    "df = pd.read_csv(\"Datasets/titanic_data.csv\")"
   ]
  },
  {
   "cell_type": "code",
   "execution_count": null,
   "id": "7ec3119f",
   "metadata": {},
   "outputs": [],
   "source": [
    "# Panda Tips\n",
    "df.info()"
   ]
  },
  {
   "cell_type": "code",
   "execution_count": null,
   "id": "f1eebbba",
   "metadata": {},
   "outputs": [],
   "source": [
    "df.head(10)"
   ]
  },
  {
   "cell_type": "code",
   "execution_count": null,
   "id": "96ad7499",
   "metadata": {},
   "outputs": [],
   "source": [
    "df.tail()"
   ]
  },
  {
   "cell_type": "code",
   "execution_count": 7,
   "id": "0eba4cf8",
   "metadata": {},
   "outputs": [
    {
     "data": {
      "text/plain": [
       "0    1.0\n",
       "1    2.0\n",
       "2    3.0\n",
       "3    4.0\n",
       "4    5.0\n",
       "5    NaN\n",
       "6    6.0\n",
       "7    9.0\n",
       "dtype: float64"
      ]
     },
     "execution_count": 7,
     "metadata": {},
     "output_type": "execute_result"
    }
   ],
   "source": [
    "s = pd.Series([1,2,3,4,5,np.nan,6,9])\n",
    "s"
   ]
  },
  {
   "cell_type": "code",
   "execution_count": 13,
   "id": "118fd2dc",
   "metadata": {},
   "outputs": [
    {
     "data": {
      "application/vnd.microsoft.datawrangler.viewer.v0+json": {
       "columns": [
        {
         "name": "index",
         "rawType": "datetime64[ns]",
         "type": "datetime"
        },
        {
         "name": "A",
         "rawType": "float64",
         "type": "float"
        },
        {
         "name": "B",
         "rawType": "float64",
         "type": "float"
        },
        {
         "name": "C",
         "rawType": "float64",
         "type": "float"
        },
        {
         "name": "D",
         "rawType": "float64",
         "type": "float"
        }
       ],
       "conversionMethod": "pd.DataFrame",
       "ref": "c006dc06-fa82-4dba-a00e-df7b400cf205",
       "rows": [
        [
         "2025-04-25 00:00:00",
         "0.7049568988983232",
         "0.21632991903518262",
         "0.25326273605738137",
         "0.3618257369749922"
        ],
        [
         "2025-04-26 00:00:00",
         "0.33633727931670765",
         "0.4545786538018285",
         "0.2872251079264664",
         "0.26244843136845697"
        ],
        [
         "2025-04-27 00:00:00",
         "0.23947639218106653",
         "0.35650501795095",
         "0.4294624314073804",
         "0.04814119190498811"
        ],
        [
         "2025-04-28 00:00:00",
         "0.8268884584876846",
         "0.3957514185643771",
         "0.6513924714665815",
         "0.4702263540804037"
        ],
        [
         "2025-04-29 00:00:00",
         "0.35533900243556193",
         "0.614400778210075",
         "0.013740988343083571",
         "0.9092986422777689"
        ],
        [
         "2025-04-30 00:00:00",
         "0.8946219483019996",
         "0.025202314152963368",
         "0.016633333418590524",
         "0.9570728610187573"
        ]
       ],
       "shape": {
        "columns": 4,
        "rows": 6
       }
      },
      "text/html": [
       "<div>\n",
       "<style scoped>\n",
       "    .dataframe tbody tr th:only-of-type {\n",
       "        vertical-align: middle;\n",
       "    }\n",
       "\n",
       "    .dataframe tbody tr th {\n",
       "        vertical-align: top;\n",
       "    }\n",
       "\n",
       "    .dataframe thead th {\n",
       "        text-align: right;\n",
       "    }\n",
       "</style>\n",
       "<table border=\"1\" class=\"dataframe\">\n",
       "  <thead>\n",
       "    <tr style=\"text-align: right;\">\n",
       "      <th></th>\n",
       "      <th>A</th>\n",
       "      <th>B</th>\n",
       "      <th>C</th>\n",
       "      <th>D</th>\n",
       "    </tr>\n",
       "  </thead>\n",
       "  <tbody>\n",
       "    <tr>\n",
       "      <th>2025-04-25</th>\n",
       "      <td>0.704957</td>\n",
       "      <td>0.216330</td>\n",
       "      <td>0.253263</td>\n",
       "      <td>0.361826</td>\n",
       "    </tr>\n",
       "    <tr>\n",
       "      <th>2025-04-26</th>\n",
       "      <td>0.336337</td>\n",
       "      <td>0.454579</td>\n",
       "      <td>0.287225</td>\n",
       "      <td>0.262448</td>\n",
       "    </tr>\n",
       "    <tr>\n",
       "      <th>2025-04-27</th>\n",
       "      <td>0.239476</td>\n",
       "      <td>0.356505</td>\n",
       "      <td>0.429462</td>\n",
       "      <td>0.048141</td>\n",
       "    </tr>\n",
       "    <tr>\n",
       "      <th>2025-04-28</th>\n",
       "      <td>0.826888</td>\n",
       "      <td>0.395751</td>\n",
       "      <td>0.651392</td>\n",
       "      <td>0.470226</td>\n",
       "    </tr>\n",
       "    <tr>\n",
       "      <th>2025-04-29</th>\n",
       "      <td>0.355339</td>\n",
       "      <td>0.614401</td>\n",
       "      <td>0.013741</td>\n",
       "      <td>0.909299</td>\n",
       "    </tr>\n",
       "    <tr>\n",
       "      <th>2025-04-30</th>\n",
       "      <td>0.894622</td>\n",
       "      <td>0.025202</td>\n",
       "      <td>0.016633</td>\n",
       "      <td>0.957073</td>\n",
       "    </tr>\n",
       "  </tbody>\n",
       "</table>\n",
       "</div>"
      ],
      "text/plain": [
       "                   A         B         C         D\n",
       "2025-04-25  0.704957  0.216330  0.253263  0.361826\n",
       "2025-04-26  0.336337  0.454579  0.287225  0.262448\n",
       "2025-04-27  0.239476  0.356505  0.429462  0.048141\n",
       "2025-04-28  0.826888  0.395751  0.651392  0.470226\n",
       "2025-04-29  0.355339  0.614401  0.013741  0.909299\n",
       "2025-04-30  0.894622  0.025202  0.016633  0.957073"
      ]
     },
     "execution_count": 13,
     "metadata": {},
     "output_type": "execute_result"
    }
   ],
   "source": [
    "dates = pd.date_range(\"20250425\",periods=6)\n",
    "df = pd.DataFrame(np.random.rand(6,4), index=dates, columns=list(\"ABCD\"))\n",
    "df"
   ]
  },
  {
   "cell_type": "code",
   "execution_count": 6,
   "id": "71475036",
   "metadata": {},
   "outputs": [
    {
     "data": {
      "application/vnd.microsoft.datawrangler.viewer.v0+json": {
       "columns": [
        {
         "name": "index",
         "rawType": "int64",
         "type": "integer"
        },
        {
         "name": "A",
         "rawType": "float64",
         "type": "float"
        },
        {
         "name": "B",
         "rawType": "datetime64[s]",
         "type": "unknown"
        },
        {
         "name": "C",
         "rawType": "float32",
         "type": "float"
        },
        {
         "name": "D",
         "rawType": "int32",
         "type": "integer"
        },
        {
         "name": "E",
         "rawType": "category",
         "type": "unknown"
        }
       ],
       "conversionMethod": "pd.DataFrame",
       "ref": "1f02bfe0-caad-4145-86ea-5c55c43cad6d",
       "rows": [
        [
         "0",
         "1.0",
         "2025-04-26 00:00:00",
         "1.0",
         "3",
         "test"
        ],
        [
         "1",
         "1.0",
         "2025-04-26 00:00:00",
         "1.0",
         "3",
         "train"
        ],
        [
         "2",
         "1.0",
         "2025-04-26 00:00:00",
         "1.0",
         "3",
         "test"
        ],
        [
         "3",
         "1.0",
         "2025-04-26 00:00:00",
         "1.0",
         "3",
         "train"
        ]
       ],
       "shape": {
        "columns": 5,
        "rows": 4
       }
      },
      "text/html": [
       "<div>\n",
       "<style scoped>\n",
       "    .dataframe tbody tr th:only-of-type {\n",
       "        vertical-align: middle;\n",
       "    }\n",
       "\n",
       "    .dataframe tbody tr th {\n",
       "        vertical-align: top;\n",
       "    }\n",
       "\n",
       "    .dataframe thead th {\n",
       "        text-align: right;\n",
       "    }\n",
       "</style>\n",
       "<table border=\"1\" class=\"dataframe\">\n",
       "  <thead>\n",
       "    <tr style=\"text-align: right;\">\n",
       "      <th></th>\n",
       "      <th>A</th>\n",
       "      <th>B</th>\n",
       "      <th>C</th>\n",
       "      <th>D</th>\n",
       "      <th>E</th>\n",
       "    </tr>\n",
       "  </thead>\n",
       "  <tbody>\n",
       "    <tr>\n",
       "      <th>0</th>\n",
       "      <td>1.0</td>\n",
       "      <td>2025-04-26</td>\n",
       "      <td>1.0</td>\n",
       "      <td>3</td>\n",
       "      <td>test</td>\n",
       "    </tr>\n",
       "    <tr>\n",
       "      <th>1</th>\n",
       "      <td>1.0</td>\n",
       "      <td>2025-04-26</td>\n",
       "      <td>1.0</td>\n",
       "      <td>3</td>\n",
       "      <td>train</td>\n",
       "    </tr>\n",
       "    <tr>\n",
       "      <th>2</th>\n",
       "      <td>1.0</td>\n",
       "      <td>2025-04-26</td>\n",
       "      <td>1.0</td>\n",
       "      <td>3</td>\n",
       "      <td>test</td>\n",
       "    </tr>\n",
       "    <tr>\n",
       "      <th>3</th>\n",
       "      <td>1.0</td>\n",
       "      <td>2025-04-26</td>\n",
       "      <td>1.0</td>\n",
       "      <td>3</td>\n",
       "      <td>train</td>\n",
       "    </tr>\n",
       "  </tbody>\n",
       "</table>\n",
       "</div>"
      ],
      "text/plain": [
       "     A          B    C  D      E\n",
       "0  1.0 2025-04-26  1.0  3   test\n",
       "1  1.0 2025-04-26  1.0  3  train\n",
       "2  1.0 2025-04-26  1.0  3   test\n",
       "3  1.0 2025-04-26  1.0  3  train"
      ]
     },
     "execution_count": 6,
     "metadata": {},
     "output_type": "execute_result"
    }
   ],
   "source": [
    "from numpy import dtype\n",
    "\n",
    "\n",
    "df2 = pd.DataFrame(\n",
    "    {\n",
    "        \"A\":1.0,\n",
    "        \"B\":pd.Timestamp(\"20250426\"),\n",
    "        \"C\":pd.Series(1,index=list(range(4)),dtype=\"float32\"),\n",
    "        \"D\":np.array([3]*4,dtype=\"int32\"),\n",
    "        \"E\":pd.Categorical([\"test\",\"train\",\"test\",\"train\"])\n",
    "    }\n",
    ")\n",
    "df2"
   ]
  }
 ],
 "metadata": {
  "kernelspec": {
   "display_name": "ml_env",
   "language": "python",
   "name": "python3"
  },
  "language_info": {
   "codemirror_mode": {
    "name": "ipython",
    "version": 3
   },
   "file_extension": ".py",
   "mimetype": "text/x-python",
   "name": "python",
   "nbconvert_exporter": "python",
   "pygments_lexer": "ipython3",
   "version": "3.13.2"
  }
 },
 "nbformat": 4,
 "nbformat_minor": 5
}
