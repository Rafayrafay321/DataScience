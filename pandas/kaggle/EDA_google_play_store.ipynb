{
 "cells": [
  {
   "cell_type": "markdown",
   "id": "e2cf2ae4",
   "metadata": {},
   "source": [
    "# Google play store EDA"
   ]
  },
  {
   "cell_type": "markdown",
   "id": "6991e4ee",
   "metadata": {},
   "source": [
    "## Importing the Libraries"
   ]
  },
  {
   "cell_type": "code",
   "execution_count": 303,
   "id": "17b84792",
   "metadata": {},
   "outputs": [],
   "source": [
    "import pandas as pd\n",
    "import seaborn as sns\n",
    "import matplotlib.pyplot as plt\n",
    "import numpy as np\n",
    "%matplotlib inline"
   ]
  },
  {
   "cell_type": "markdown",
   "id": "0b614b6d",
   "metadata": {},
   "source": [
    "### Important things to know"
   ]
  },
  {
   "cell_type": "code",
   "execution_count": 304,
   "id": "1a204d76",
   "metadata": {},
   "outputs": [],
   "source": [
    "# Setting the option to be maximum for rows and columns\n",
    "pd.set_option(\"display.max_columns\",None)\n",
    "pd.set_option(\"display.max_rows\",None)\n",
    "\n",
    "# Hiding all the warnings\n",
    "import warnings\n",
    "warnings.filterwarnings('ignore')"
   ]
  },
  {
   "cell_type": "markdown",
   "id": "c6797794",
   "metadata": {},
   "source": [
    "## Data Loading and Exploring | Cleaning"
   ]
  },
  {
   "cell_type": "code",
   "execution_count": 305,
   "id": "6f3b4847",
   "metadata": {},
   "outputs": [],
   "source": [
    "\n",
    "df = pd.read_csv(\"../Datasets/googleplaystore.csv\")"
   ]
  },
  {
   "cell_type": "markdown",
   "id": "d8b7a6c1",
   "metadata": {},
   "source": [
    "### Lets have look on the top 5 lines of the data."
   ]
  },
  {
   "cell_type": "code",
   "execution_count": 306,
   "id": "30dac27d",
   "metadata": {},
   "outputs": [
    {
     "data": {
      "application/vnd.microsoft.datawrangler.viewer.v0+json": {
       "columns": [
        {
         "name": "index",
         "rawType": "int64",
         "type": "integer"
        },
        {
         "name": "App",
         "rawType": "object",
         "type": "string"
        },
        {
         "name": "Category",
         "rawType": "object",
         "type": "string"
        },
        {
         "name": "Rating",
         "rawType": "float64",
         "type": "float"
        },
        {
         "name": "Reviews",
         "rawType": "int64",
         "type": "integer"
        },
        {
         "name": "Size",
         "rawType": "object",
         "type": "string"
        },
        {
         "name": "Installs",
         "rawType": "object",
         "type": "string"
        },
        {
         "name": "Type",
         "rawType": "object",
         "type": "string"
        },
        {
         "name": "Price",
         "rawType": "object",
         "type": "string"
        },
        {
         "name": "Content Rating",
         "rawType": "object",
         "type": "string"
        },
        {
         "name": "Genres",
         "rawType": "object",
         "type": "string"
        },
        {
         "name": "Last Updated",
         "rawType": "object",
         "type": "string"
        },
        {
         "name": "Current Ver",
         "rawType": "object",
         "type": "string"
        },
        {
         "name": "Android Ver",
         "rawType": "object",
         "type": "string"
        }
       ],
       "conversionMethod": "pd.DataFrame",
       "ref": "a069a558-9205-48cd-9b9e-1cd21e7376ef",
       "rows": [
        [
         "0",
         "Photo Editor & Candy Camera & Grid & ScrapBook",
         "ART_AND_DESIGN",
         "4.1",
         "159",
         "19M",
         "10,000+",
         "Free",
         "0",
         "Everyone",
         "Art & Design",
         "January 7, 2018",
         "1.0.0",
         "4.0.3 and up"
        ],
        [
         "1",
         "Coloring book moana",
         "ART_AND_DESIGN",
         "3.9",
         "967",
         "14M",
         "500,000+",
         "Free",
         "0",
         "Everyone",
         "Art & Design;Pretend Play",
         "January 15, 2018",
         "2.0.0",
         "4.0.3 and up"
        ],
        [
         "2",
         "U Launcher Lite – FREE Live Cool Themes, Hide Apps",
         "ART_AND_DESIGN",
         "4.7",
         "87510",
         "8.7M",
         "5,000,000+",
         "Free",
         "0",
         "Everyone",
         "Art & Design",
         "August 1, 2018",
         "1.2.4",
         "4.0.3 and up"
        ],
        [
         "3",
         "Sketch - Draw & Paint",
         "ART_AND_DESIGN",
         "4.5",
         "215644",
         "25M",
         "50,000,000+",
         "Free",
         "0",
         "Teen",
         "Art & Design",
         "June 8, 2018",
         "Varies with device",
         "4.2 and up"
        ],
        [
         "4",
         "Pixel Draw - Number Art Coloring Book",
         "ART_AND_DESIGN",
         "4.3",
         "967",
         "2.8M",
         "100,000+",
         "Free",
         "0",
         "Everyone",
         "Art & Design;Creativity",
         "June 20, 2018",
         "1.1",
         "4.4 and up"
        ]
       ],
       "shape": {
        "columns": 13,
        "rows": 5
       }
      },
      "text/html": [
       "<div>\n",
       "<style scoped>\n",
       "    .dataframe tbody tr th:only-of-type {\n",
       "        vertical-align: middle;\n",
       "    }\n",
       "\n",
       "    .dataframe tbody tr th {\n",
       "        vertical-align: top;\n",
       "    }\n",
       "\n",
       "    .dataframe thead th {\n",
       "        text-align: right;\n",
       "    }\n",
       "</style>\n",
       "<table border=\"1\" class=\"dataframe\">\n",
       "  <thead>\n",
       "    <tr style=\"text-align: right;\">\n",
       "      <th></th>\n",
       "      <th>App</th>\n",
       "      <th>Category</th>\n",
       "      <th>Rating</th>\n",
       "      <th>Reviews</th>\n",
       "      <th>Size</th>\n",
       "      <th>Installs</th>\n",
       "      <th>Type</th>\n",
       "      <th>Price</th>\n",
       "      <th>Content Rating</th>\n",
       "      <th>Genres</th>\n",
       "      <th>Last Updated</th>\n",
       "      <th>Current Ver</th>\n",
       "      <th>Android Ver</th>\n",
       "    </tr>\n",
       "  </thead>\n",
       "  <tbody>\n",
       "    <tr>\n",
       "      <th>0</th>\n",
       "      <td>Photo Editor &amp; Candy Camera &amp; Grid &amp; ScrapBook</td>\n",
       "      <td>ART_AND_DESIGN</td>\n",
       "      <td>4.1</td>\n",
       "      <td>159</td>\n",
       "      <td>19M</td>\n",
       "      <td>10,000+</td>\n",
       "      <td>Free</td>\n",
       "      <td>0</td>\n",
       "      <td>Everyone</td>\n",
       "      <td>Art &amp; Design</td>\n",
       "      <td>January 7, 2018</td>\n",
       "      <td>1.0.0</td>\n",
       "      <td>4.0.3 and up</td>\n",
       "    </tr>\n",
       "    <tr>\n",
       "      <th>1</th>\n",
       "      <td>Coloring book moana</td>\n",
       "      <td>ART_AND_DESIGN</td>\n",
       "      <td>3.9</td>\n",
       "      <td>967</td>\n",
       "      <td>14M</td>\n",
       "      <td>500,000+</td>\n",
       "      <td>Free</td>\n",
       "      <td>0</td>\n",
       "      <td>Everyone</td>\n",
       "      <td>Art &amp; Design;Pretend Play</td>\n",
       "      <td>January 15, 2018</td>\n",
       "      <td>2.0.0</td>\n",
       "      <td>4.0.3 and up</td>\n",
       "    </tr>\n",
       "    <tr>\n",
       "      <th>2</th>\n",
       "      <td>U Launcher Lite – FREE Live Cool Themes, Hide ...</td>\n",
       "      <td>ART_AND_DESIGN</td>\n",
       "      <td>4.7</td>\n",
       "      <td>87510</td>\n",
       "      <td>8.7M</td>\n",
       "      <td>5,000,000+</td>\n",
       "      <td>Free</td>\n",
       "      <td>0</td>\n",
       "      <td>Everyone</td>\n",
       "      <td>Art &amp; Design</td>\n",
       "      <td>August 1, 2018</td>\n",
       "      <td>1.2.4</td>\n",
       "      <td>4.0.3 and up</td>\n",
       "    </tr>\n",
       "    <tr>\n",
       "      <th>3</th>\n",
       "      <td>Sketch - Draw &amp; Paint</td>\n",
       "      <td>ART_AND_DESIGN</td>\n",
       "      <td>4.5</td>\n",
       "      <td>215644</td>\n",
       "      <td>25M</td>\n",
       "      <td>50,000,000+</td>\n",
       "      <td>Free</td>\n",
       "      <td>0</td>\n",
       "      <td>Teen</td>\n",
       "      <td>Art &amp; Design</td>\n",
       "      <td>June 8, 2018</td>\n",
       "      <td>Varies with device</td>\n",
       "      <td>4.2 and up</td>\n",
       "    </tr>\n",
       "    <tr>\n",
       "      <th>4</th>\n",
       "      <td>Pixel Draw - Number Art Coloring Book</td>\n",
       "      <td>ART_AND_DESIGN</td>\n",
       "      <td>4.3</td>\n",
       "      <td>967</td>\n",
       "      <td>2.8M</td>\n",
       "      <td>100,000+</td>\n",
       "      <td>Free</td>\n",
       "      <td>0</td>\n",
       "      <td>Everyone</td>\n",
       "      <td>Art &amp; Design;Creativity</td>\n",
       "      <td>June 20, 2018</td>\n",
       "      <td>1.1</td>\n",
       "      <td>4.4 and up</td>\n",
       "    </tr>\n",
       "  </tbody>\n",
       "</table>\n",
       "</div>"
      ],
      "text/plain": [
       "                                                 App        Category  Rating  \\\n",
       "0     Photo Editor & Candy Camera & Grid & ScrapBook  ART_AND_DESIGN     4.1   \n",
       "1                                Coloring book moana  ART_AND_DESIGN     3.9   \n",
       "2  U Launcher Lite – FREE Live Cool Themes, Hide ...  ART_AND_DESIGN     4.7   \n",
       "3                              Sketch - Draw & Paint  ART_AND_DESIGN     4.5   \n",
       "4              Pixel Draw - Number Art Coloring Book  ART_AND_DESIGN     4.3   \n",
       "\n",
       "   Reviews  Size     Installs  Type Price Content Rating  \\\n",
       "0      159   19M      10,000+  Free     0       Everyone   \n",
       "1      967   14M     500,000+  Free     0       Everyone   \n",
       "2    87510  8.7M   5,000,000+  Free     0       Everyone   \n",
       "3   215644   25M  50,000,000+  Free     0           Teen   \n",
       "4      967  2.8M     100,000+  Free     0       Everyone   \n",
       "\n",
       "                      Genres      Last Updated         Current Ver  \\\n",
       "0               Art & Design   January 7, 2018               1.0.0   \n",
       "1  Art & Design;Pretend Play  January 15, 2018               2.0.0   \n",
       "2               Art & Design    August 1, 2018               1.2.4   \n",
       "3               Art & Design      June 8, 2018  Varies with device   \n",
       "4    Art & Design;Creativity     June 20, 2018                 1.1   \n",
       "\n",
       "    Android Ver  \n",
       "0  4.0.3 and up  \n",
       "1  4.0.3 and up  \n",
       "2  4.0.3 and up  \n",
       "3    4.2 and up  \n",
       "4    4.4 and up  "
      ]
     },
     "execution_count": 306,
     "metadata": {},
     "output_type": "execute_result"
    }
   ],
   "source": [
    "# Check the data\n",
    "df.head()"
   ]
  },
  {
   "cell_type": "code",
   "execution_count": 307,
   "id": "8d22fcf7",
   "metadata": {},
   "outputs": [
    {
     "name": "stdout",
     "output_type": "stream",
     "text": [
      "The names of columns in this dataset are as follows: \n",
      " Index(['App', 'Category', 'Rating', 'Reviews', 'Size', 'Installs', 'Type',\n",
      "       'Price', 'Content Rating', 'Genres', 'Last Updated', 'Current Ver',\n",
      "       'Android Ver'],\n",
      "      dtype='object')\n"
     ]
    }
   ],
   "source": [
    "print(f\"The names of columns in this dataset are as follows: \\n {df.columns}\")"
   ]
  },
  {
   "cell_type": "code",
   "execution_count": 308,
   "id": "5f40e352",
   "metadata": {},
   "outputs": [
    {
     "name": "stdout",
     "output_type": "stream",
     "text": [
      "The Numbers of Rows are 10841, and the columns are 13\n"
     ]
    }
   ],
   "source": [
    "print(f'The Numbers of Rows are {df.shape[0]}, and the columns are {df.shape[1]}')"
   ]
  },
  {
   "cell_type": "code",
   "execution_count": 309,
   "id": "09931e85",
   "metadata": {},
   "outputs": [
    {
     "name": "stdout",
     "output_type": "stream",
     "text": [
      "<class 'pandas.core.frame.DataFrame'>\n",
      "RangeIndex: 10841 entries, 0 to 10840\n",
      "Data columns (total 13 columns):\n",
      " #   Column          Non-Null Count  Dtype  \n",
      "---  ------          --------------  -----  \n",
      " 0   App             10841 non-null  object \n",
      " 1   Category        10840 non-null  object \n",
      " 2   Rating          9367 non-null   float64\n",
      " 3   Reviews         10841 non-null  int64  \n",
      " 4   Size            10841 non-null  object \n",
      " 5   Installs        10841 non-null  object \n",
      " 6   Type            10840 non-null  object \n",
      " 7   Price           10841 non-null  object \n",
      " 8   Content Rating  10841 non-null  object \n",
      " 9   Genres          10840 non-null  object \n",
      " 10  Last Updated    10841 non-null  object \n",
      " 11  Current Ver     10833 non-null  object \n",
      " 12  Android Ver     10839 non-null  object \n",
      "dtypes: float64(1), int64(1), object(11)\n",
      "memory usage: 1.1+ MB\n"
     ]
    }
   ],
   "source": [
    "df.info()"
   ]
  },
  {
   "cell_type": "markdown",
   "id": "e4b5f060",
   "metadata": {},
   "source": [
    "## Converting some columns to the numeric columns "
   ]
  },
  {
   "cell_type": "markdown",
   "id": "f6d38046",
   "metadata": {},
   "source": [
    "--- \n",
    "### Observations on the Size column\n",
    "1. \"Varies with device\"\n",
    "2. M\n",
    "3. k\n",
    "---"
   ]
  },
  {
   "cell_type": "markdown",
   "id": "456806fc",
   "metadata": {},
   "source": [
    "### Checking the missing values"
   ]
  },
  {
   "cell_type": "code",
   "execution_count": 310,
   "id": "ee6b1054",
   "metadata": {},
   "outputs": [
    {
     "data": {
      "text/plain": [
       "np.int64(0)"
      ]
     },
     "execution_count": 310,
     "metadata": {},
     "output_type": "execute_result"
    }
   ],
   "source": [
    "df[\"Size\"].isnull().sum()"
   ]
  },
  {
   "cell_type": "code",
   "execution_count": 311,
   "id": "25395670",
   "metadata": {},
   "outputs": [
    {
     "data": {
      "text/plain": [
       "Size\n",
       "Varies with device    1695\n",
       "11M                    198\n",
       "12M                    196\n",
       "14M                    194\n",
       "13M                    191\n",
       "15M                    184\n",
       "17M                    160\n",
       "19M                    154\n",
       "26M                    149\n",
       "16M                    149\n",
       "25M                    143\n",
       "20M                    139\n",
       "21M                    138\n",
       "10M                    136\n",
       "24M                    136\n",
       "18M                    133\n",
       "23M                    117\n",
       "22M                    114\n",
       "29M                    103\n",
       "27M                     97\n",
       "28M                     95\n",
       "30M                     84\n",
       "33M                     79\n",
       "3.3M                    77\n",
       "37M                     76\n",
       "35M                     72\n",
       "31M                     70\n",
       "2.9M                    69\n",
       "2.3M                    68\n",
       "2.5M                    68\n",
       "3.4M                    65\n",
       "2.8M                    65\n",
       "32M                     63\n",
       "3.7M                    63\n",
       "34M                     63\n",
       "3.9M                    62\n",
       "3.0M                    62\n",
       "3.8M                    62\n",
       "40M                     62\n",
       "44M                     61\n",
       "4.0M                    61\n",
       "36M                     60\n",
       "48M                     59\n",
       "46M                     59\n",
       "4.2M                    59\n",
       "5.0M                    58\n",
       "3.6M                    57\n",
       "3.1M                    56\n",
       "39M                     56\n",
       "3.2M                    55\n",
       "38M                     55\n",
       "4.3M                    54\n",
       "2.7M                    53\n",
       "4.1M                    52\n",
       "2.0M                    51\n",
       "3.5M                    51\n",
       "5.4M                    51\n",
       "4.9M                    50\n",
       "1.8M                    50\n",
       "2.6M                    50\n",
       "1.5M                    48\n",
       "2.4M                    48\n",
       "5.7M                    48\n",
       "41M                     48\n",
       "43M                     47\n",
       "4.6M                    46\n",
       "6.3M                    45\n",
       "2.2M                    45\n",
       "49M                     45\n",
       "50M                     44\n",
       "5.3M                    44\n",
       "5.1M                    43\n",
       "53M                     43\n",
       "4.4M                    42\n",
       "63M                     41\n",
       "42M                     41\n",
       "1.2M                    41\n",
       "1.7M                    40\n",
       "2.1M                    40\n",
       "45M                     40\n",
       "4.5M                    40\n",
       "6.9M                    40\n",
       "6.1M                    39\n",
       "99M                     39\n",
       "1.6M                    39\n",
       "8.7M                    39\n",
       "59M                     38\n",
       "47M                     37\n",
       "57M                     37\n",
       "5.9M                    37\n",
       "1.4M                    37\n",
       "7.3M                    37\n",
       "60M                     36\n",
       "8.5M                    36\n",
       "4.7M                    36\n",
       "1.3M                    35\n",
       "5.8M                    35\n",
       "52M                     35\n",
       "5.2M                    35\n",
       "4.8M                    34\n",
       "6.0M                    34\n",
       "6.5M                    34\n",
       "7.9M                    33\n",
       "5.5M                    33\n",
       "7.0M                    33\n",
       "51M                     33\n",
       "6.6M                    33\n",
       "9.2M                    33\n",
       "1.9M                    32\n",
       "67M                     32\n",
       "1.1M                    32\n",
       "62M                     32\n",
       "5.6M                    31\n",
       "56M                     31\n",
       "8.3M                    30\n",
       "7.2M                    30\n",
       "8.4M                    30\n",
       "55M                     30\n",
       "9.8M                    30\n",
       "6.2M                    30\n",
       "54M                     29\n",
       "7.8M                    29\n",
       "9.1M                    29\n",
       "7.6M                    29\n",
       "6.4M                    29\n",
       "9.9M                    28\n",
       "7.4M                    28\n",
       "8.9M                    28\n",
       "7.5M                    28\n",
       "6.8M                    28\n",
       "9.5M                    28\n",
       "8.2M                    28\n",
       "8.8M                    27\n",
       "76M                     27\n",
       "70M                     27\n",
       "8.1M                    27\n",
       "9.0M                    27\n",
       "61M                     26\n",
       "7.7M                    26\n",
       "58M                     26\n",
       "7.1M                    26\n",
       "96M                     26\n",
       "8.6M                    25\n",
       "6.7M                    25\n",
       "9.4M                    24\n",
       "9.7M                    24\n",
       "78M                     23\n",
       "8.0M                    23\n",
       "69M                     23\n",
       "91M                     22\n",
       "82M                     21\n",
       "97M                     20\n",
       "74M                     20\n",
       "72M                     19\n",
       "95M                     18\n",
       "68M                     18\n",
       "85M                     17\n",
       "94M                     17\n",
       "93M                     16\n",
       "100M                    16\n",
       "66M                     16\n",
       "98M                     16\n",
       "83M                     15\n",
       "92M                     15\n",
       "9.3M                    15\n",
       "9.6M                    15\n",
       "64M                     15\n",
       "73M                     15\n",
       "71M                     14\n",
       "88M                     14\n",
       "77M                     13\n",
       "87M                     13\n",
       "75M                     13\n",
       "80M                     13\n",
       "79M                     11\n",
       "81M                     11\n",
       "10.0M                   10\n",
       "65M                     10\n",
       "89M                      9\n",
       "84M                      9\n",
       "86M                      8\n",
       "1.0M                     7\n",
       "90M                      6\n",
       "201k                     3\n",
       "79k                      3\n",
       "118k                     3\n",
       "266k                     3\n",
       "375k                     3\n",
       "592k                     2\n",
       "29k                      2\n",
       "948k                     2\n",
       "323k                     2\n",
       "656k                     2\n",
       "33k                      2\n",
       "228k                     2\n",
       "72k                      2\n",
       "334k                     2\n",
       "417k                     2\n",
       "335k                     2\n",
       "192k                     2\n",
       "141k                     2\n",
       "70k                      2\n",
       "18k                      2\n",
       "473k                     2\n",
       "842k                     2\n",
       "206k                     2\n",
       "172k                     2\n",
       "26k                      2\n",
       "196k                     2\n",
       "58k                      2\n",
       "318k                     2\n",
       "17k                      2\n",
       "704k                     2\n",
       "51k                      2\n",
       "957k                     2\n",
       "364k                     2\n",
       "619k                     1\n",
       "144k                     1\n",
       "143k                     1\n",
       "190k                     1\n",
       "376k                     1\n",
       "970k                     1\n",
       "39k                      1\n",
       "879k                     1\n",
       "161k                     1\n",
       "626k                     1\n",
       "387k                     1\n",
       "860k                     1\n",
       "154k                     1\n",
       "467k                     1\n",
       "861k                     1\n",
       "921k                     1\n",
       "523k                     1\n",
       "329k                     1\n",
       "48k                      1\n",
       "270k                     1\n",
       "811k                     1\n",
       "688k                     1\n",
       "847k                     1\n",
       "562k                     1\n",
       "54k                      1\n",
       "500k                     1\n",
       "608k                     1\n",
       "903k                     1\n",
       "914k                     1\n",
       "193k                     1\n",
       "378k                     1\n",
       "899k                     1\n",
       "892k                     1\n",
       "754k                     1\n",
       "518k                     1\n",
       "24k                      1\n",
       "280k                     1\n",
       "784k                     1\n",
       "981k                     1\n",
       "862k                     1\n",
       "865k                     1\n",
       "953k                     1\n",
       "857k                     1\n",
       "241k                     1\n",
       "772k                     1\n",
       "713k                     1\n",
       "720k                     1\n",
       "853k                     1\n",
       "779k                     1\n",
       "920k                     1\n",
       "525k                     1\n",
       "544k                     1\n",
       "293k                     1\n",
       "91k                      1\n",
       "756k                     1\n",
       "730k                     1\n",
       "220k                     1\n",
       "371k                     1\n",
       "239k                     1\n",
       "314k                     1\n",
       "203k                     1\n",
       "746k                     1\n",
       "313k                     1\n",
       "540k                     1\n",
       "930k                     1\n",
       "251k                     1\n",
       "61k                      1\n",
       "545k                     1\n",
       "965k                     1\n",
       "475k                     1\n",
       "45k                      1\n",
       "169k                     1\n",
       "939k                     1\n",
       "81k                      1\n",
       "818k                     1\n",
       "902k                     1\n",
       "924k                     1\n",
       "78k                      1\n",
       "317k                     1\n",
       "14k                      1\n",
       "74k                      1\n",
       "717k                     1\n",
       "23k                      1\n",
       "695k                     1\n",
       "696k                     1\n",
       "980k                     1\n",
       "975k                     1\n",
       "444k                     1\n",
       "954k                     1\n",
       "549k                     1\n",
       "238k                     1\n",
       "976k                     1\n",
       "322k                     1\n",
       "121k                     1\n",
       "872k                     1\n",
       "93k                      1\n",
       "714k                     1\n",
       "655k                     1\n",
       "283k                     1\n",
       "442k                     1\n",
       "812k                     1\n",
       "421k                     1\n",
       "454k                     1\n",
       "383k                     1\n",
       "350k                     1\n",
       "175k                     1\n",
       "904k                     1\n",
       "306k                     1\n",
       "705k                     1\n",
       "308k                     1\n",
       "609k                     1\n",
       "210k                     1\n",
       "414k                     1\n",
       "11k                      1\n",
       "292k                     1\n",
       "41k                      1\n",
       "8.5k                     1\n",
       "624k                     1\n",
       "232k                     1\n",
       "556k                     1\n",
       "816k                     1\n",
       "496k                     1\n",
       "728k                     1\n",
       "460k                     1\n",
       "200k                     1\n",
       "429k                     1\n",
       "430k                     1\n",
       "721k                     1\n",
       "782k                     1\n",
       "478k                     1\n",
       "459k                     1\n",
       "412k                     1\n",
       "598k                     1\n",
       "437k                     1\n",
       "373k                     1\n",
       "191k                     1\n",
       "647k                     1\n",
       "840k                     1\n",
       "186k                     1\n",
       "319k                     1\n",
       "683k                     1\n",
       "778k                     1\n",
       "569k                     1\n",
       "243k                     1\n",
       "613k                     1\n",
       "887k                     1\n",
       "506k                     1\n",
       "27k                      1\n",
       "351k                     1\n",
       "554k                     1\n",
       "25k                      1\n",
       "963k                     1\n",
       "951k                     1\n",
       "511k                     1\n",
       "691k                     1\n",
       "55k                      1\n",
       "219k                     1\n",
       "222k                     1\n",
       "982k                     1\n",
       "585k                     1\n",
       "716k                     1\n",
       "597k                     1\n",
       "173k                     1\n",
       "499k                     1\n",
       "353k                     1\n",
       "209k                     1\n",
       "153k                     1\n",
       "116k                     1\n",
       "743k                     1\n",
       "898k                     1\n",
       "103k                     1\n",
       "551k                     1\n",
       "514k                     1\n",
       "913k                     1\n",
       "208k                     1\n",
       "82k                      1\n",
       "269k                     1\n",
       "961k                     1\n",
       "780k                     1\n",
       "837k                     1\n",
       "516k                     1\n",
       "97k                      1\n",
       "986k                     1\n",
       "643k                     1\n",
       "50k                      1\n",
       "237k                     1\n",
       "787k                     1\n",
       "801k                     1\n",
       "400k                     1\n",
       "411k                     1\n",
       "122k                     1\n",
       "809k                     1\n",
       "663k                     1\n",
       "257k                     1\n",
       "234k                     1\n",
       "160k                     1\n",
       "170k                     1\n",
       "89k                      1\n",
       "240k                     1\n",
       "226k                     1\n",
       "470k                     1\n",
       "526k                     1\n",
       "176k                     1\n",
       "940k                     1\n",
       "108k                     1\n",
       "221k                     1\n",
       "601k                     1\n",
       "881k                     1\n",
       "642k                     1\n",
       "749k                     1\n",
       "600k                     1\n",
       "498k                     1\n",
       "20k                      1\n",
       "485k                     1\n",
       "309k                     1\n",
       "994k                     1\n",
       "916k                     1\n",
       "636k                     1\n",
       "785k                     1\n",
       "775k                     1\n",
       "288k                     1\n",
       "28k                      1\n",
       "629k                     1\n",
       "245k                     1\n",
       "458k                     1\n",
       "164k                     1\n",
       "259k                     1\n",
       "942k                     1\n",
       "34k                      1\n",
       "874k                     1\n",
       "582k                     1\n",
       "1020k                    1\n",
       "885k                     1\n",
       "552k                     1\n",
       "67k                      1\n",
       "676k                     1\n",
       "44k                      1\n",
       "157k                     1\n",
       "404k                     1\n",
       "420k                     1\n",
       "253k                     1\n",
       "992k                     1\n",
       "658k                     1\n",
       "73k                      1\n",
       "246k                     1\n",
       "Name: count, dtype: int64"
      ]
     },
     "execution_count": 311,
     "metadata": {},
     "output_type": "execute_result"
    }
   ],
   "source": [
    "df[\"Size\"].value_counts()"
   ]
  },
  {
   "cell_type": "markdown",
   "id": "e639fc48",
   "metadata": {},
   "source": [
    "- No missing values in size, we are good to do go."
   ]
  },
  {
   "cell_type": "markdown",
   "id": "0a0fc6df",
   "metadata": {},
   "source": [
    "### Verify the the number of three different values"
   ]
  },
  {
   "cell_type": "code",
   "execution_count": 312,
   "id": "75e3bd84",
   "metadata": {},
   "outputs": [
    {
     "data": {
      "text/plain": [
       "np.int64(8830)"
      ]
     },
     "execution_count": 312,
     "metadata": {},
     "output_type": "execute_result"
    }
   ],
   "source": [
    "# Finding the number of value having M in columns\n",
    "df[\"Size\"].loc[df[\"Size\"].str.contains(\"M\")].value_counts().sum()"
   ]
  },
  {
   "cell_type": "code",
   "execution_count": 313,
   "id": "a336f490",
   "metadata": {},
   "outputs": [
    {
     "data": {
      "text/plain": [
       "np.int64(316)"
      ]
     },
     "execution_count": 313,
     "metadata": {},
     "output_type": "execute_result"
    }
   ],
   "source": [
    "# Finding the number of values having k in them\n",
    "df[\"Size\"].loc[df[\"Size\"].str.contains(\"k\")].value_counts().sum()"
   ]
  },
  {
   "cell_type": "code",
   "execution_count": 314,
   "id": "fc6c71fc",
   "metadata": {},
   "outputs": [
    {
     "data": {
      "text/plain": [
       "np.int64(1695)"
      ]
     },
     "execution_count": 314,
     "metadata": {},
     "output_type": "execute_result"
    }
   ],
   "source": [
    "# Finding the number of values having \"Varies with device\" in the columns\n",
    "df[\"Size\"].loc[df[\"Size\"].str.contains(\"Varies with device\")].value_counts().sum()"
   ]
  },
  {
   "cell_type": "code",
   "execution_count": 315,
   "id": "6c685c0a",
   "metadata": {},
   "outputs": [
    {
     "data": {
      "text/plain": [
       "10841"
      ]
     },
     "execution_count": 315,
     "metadata": {},
     "output_type": "execute_result"
    }
   ],
   "source": [
    "# Summing all to verify\n",
    "8830 + 316 + 1695"
   ]
  },
  {
   "cell_type": "code",
   "execution_count": 316,
   "id": "fe2c39c3",
   "metadata": {},
   "outputs": [
    {
     "data": {
      "text/plain": [
       "10841"
      ]
     },
     "execution_count": 316,
     "metadata": {},
     "output_type": "execute_result"
    }
   ],
   "source": [
    "# Comparing with the actual data to cross verify\n",
    "len(df[\"Size\"])"
   ]
  },
  {
   "cell_type": "code",
   "execution_count": 317,
   "id": "6c43685c",
   "metadata": {},
   "outputs": [],
   "source": [
    "def convert_size_to_bytes(size_str):\n",
    "    \"\"\"\n",
    "    Converts a size string with units (K, M, G) to bytes.\n",
    "    Handles 'Varies with device' and invalid formats by returning NaN.\n",
    "    \n",
    "    Parameters:\n",
    "        size_str (str): Input size string (e.g., '3.3M', '2k')\n",
    "    \n",
    "    Returns:\n",
    "        float: Size in bytes, or NaN if conversion fails\n",
    "    \"\"\"\n",
    "    \n",
    "    # Handle missing values and 'Varies with device' cases\n",
    "    if pd.isna(size_str) or size_str == \"Varies with device\":\n",
    "        return np.nan\n",
    "    \n",
    "    # Standardize the string: convert to uppercase and remove whitespace\n",
    "    size_str = str(size_str).strip().upper()\n",
    "    \n",
    "    # Kilobyte (KB) conversion: multiply by 1024\n",
    "    if \"K\" in size_str:\n",
    "        number_part = size_str.replace(\"K\", \"\")  # Remove unit\n",
    "        return float(number_part) * 1024  # 1 KB = 1024 bytes\n",
    "    \n",
    "    # Megabyte (MB) conversion: multiply by 1024^2\n",
    "    elif \"M\" in size_str:\n",
    "        number_part = size_str.replace(\"M\", \"\")\n",
    "        return float(number_part) * (1024 ** 2)  # 1 MB = 1,048,576 bytes\n",
    "      \n",
    "    # No unit found - assume value is already in bytes\n",
    "    else:\n",
    "        try:\n",
    "            return float(size_str)  # Attempt direct conversion\n",
    "        except ValueError:\n",
    "            return np.nan  # Handle invalid number formats\n",
    "\n",
    "# Apply the function to the DataFrame column\n",
    "df[\"Size\"] = df[\"Size\"].apply(convert_size_to_bytes)"
   ]
  },
  {
   "cell_type": "code",
   "execution_count": 318,
   "id": "b4f8b142",
   "metadata": {},
   "outputs": [
    {
     "data": {
      "text/plain": [
       "np.int64(1695)"
      ]
     },
     "execution_count": 318,
     "metadata": {},
     "output_type": "execute_result"
    }
   ],
   "source": [
    "df[\"Size\"].isnull().sum()"
   ]
  },
  {
   "cell_type": "code",
   "execution_count": 319,
   "id": "62f5f690",
   "metadata": {},
   "outputs": [],
   "source": [
    "# Now renaming the column\n",
    "df.rename(columns={\"Size\":\"Size_in_bytes\"},inplace=True)"
   ]
  },
  {
   "cell_type": "code",
   "execution_count": 320,
   "id": "3a3e5220",
   "metadata": {},
   "outputs": [],
   "source": [
    "# Adding the new column \"Size_in_Mb\"\n",
    "df[\"Size_in_Mb\"] = df[\"Size_in_bytes\"].apply(lambda x: x/(1024*1024))"
   ]
  },
  {
   "cell_type": "code",
   "execution_count": 321,
   "id": "dd99b7b2",
   "metadata": {},
   "outputs": [],
   "source": [
    "# Adding the new column \"Size_in_KB\"\n",
    "df[\"Size_in_Kb\"] = df[\"Size_in_bytes\"].apply(lambda x: x/(1024))"
   ]
  },
  {
   "cell_type": "markdown",
   "id": "2215423e",
   "metadata": {},
   "source": [
    "### Observation on Install column\n",
    "\n",
    "---\n",
    "1. Remove \",\"\n",
    "2. Remove \"+\"\n",
    "3. Conver the column int Numeric column\n",
    "---"
   ]
  },
  {
   "cell_type": "markdown",
   "id": "df304912",
   "metadata": {},
   "source": [
    "### Checking the Missing values"
   ]
  },
  {
   "cell_type": "code",
   "execution_count": 322,
   "id": "714b351a",
   "metadata": {},
   "outputs": [
    {
     "data": {
      "text/plain": [
       "np.int64(0)"
      ]
     },
     "execution_count": 322,
     "metadata": {},
     "output_type": "execute_result"
    }
   ],
   "source": [
    "df[\"Installs\"].isnull().sum()"
   ]
  },
  {
   "cell_type": "markdown",
   "id": "ca7c0365",
   "metadata": {},
   "source": [
    "- No missing values so we are good to go"
   ]
  },
  {
   "cell_type": "code",
   "execution_count": 323,
   "id": "4e5a9cdf",
   "metadata": {},
   "outputs": [
    {
     "data": {
      "text/plain": [
       "Installs\n",
       "1,000,000+        1579\n",
       "10,000,000+       1252\n",
       "100,000+          1169\n",
       "10,000+           1054\n",
       "1,000+             908\n",
       "5,000,000+         752\n",
       "100+               719\n",
       "500,000+           539\n",
       "50,000+            479\n",
       "5,000+             477\n",
       "100,000,000+       409\n",
       "10+                386\n",
       "500+               330\n",
       "50,000,000+        289\n",
       "50+                205\n",
       "5+                  82\n",
       "500,000,000+        72\n",
       "1+                  67\n",
       "1,000,000,000+      58\n",
       "0+                  14\n",
       "0                    1\n",
       "Name: count, dtype: int64"
      ]
     },
     "execution_count": 323,
     "metadata": {},
     "output_type": "execute_result"
    }
   ],
   "source": [
    "# Verifying the Total values\n",
    "df[\"Installs\"].value_counts()"
   ]
  },
  {
   "cell_type": "code",
   "execution_count": 324,
   "id": "2fc050c1",
   "metadata": {},
   "outputs": [],
   "source": [
    "# Removing the \",\" and the \"+\"\n",
    "\n",
    "df[\"Installs\"] = pd.to_numeric(df[\"Installs\"].str.replace(r\"[,+]\",\"\",regex=True))"
   ]
  },
  {
   "cell_type": "markdown",
   "id": "4fe385ab",
   "metadata": {},
   "source": [
    "### Observation on Price column\n",
    "---\n",
    "1. Remove \"$\" sign\n",
    "2. Convert to numeric\n",
    "---"
   ]
  },
  {
   "cell_type": "code",
   "execution_count": 325,
   "id": "a82bf37b",
   "metadata": {},
   "outputs": [
    {
     "name": "stdout",
     "output_type": "stream",
     "text": [
      "<class 'pandas.core.series.Series'>\n",
      "RangeIndex: 10841 entries, 0 to 10840\n",
      "Series name: Price\n",
      "Non-Null Count  Dtype \n",
      "--------------  ----- \n",
      "10841 non-null  object\n",
      "dtypes: object(1)\n",
      "memory usage: 84.8+ KB\n"
     ]
    }
   ],
   "source": [
    "df[\"Price\"].info()"
   ]
  },
  {
   "cell_type": "code",
   "execution_count": 326,
   "id": "2872377c",
   "metadata": {},
   "outputs": [
    {
     "data": {
      "text/plain": [
       "np.int64(0)"
      ]
     },
     "execution_count": 326,
     "metadata": {},
     "output_type": "execute_result"
    }
   ],
   "source": [
    "# Checking the Null values\n",
    "df[\"Price\"].isnull().sum()"
   ]
  },
  {
   "cell_type": "code",
   "execution_count": 327,
   "id": "32142e1f",
   "metadata": {},
   "outputs": [],
   "source": [
    "df[\"Price\"] = pd.to_numeric(df[\"Price\"].str.replace(r\"[$]\",\"\",regex=True),errors=\"coerce\")"
   ]
  },
  {
   "cell_type": "code",
   "execution_count": 328,
   "id": "91157745",
   "metadata": {},
   "outputs": [
    {
     "data": {
      "text/plain": [
       "Price\n",
       "0.00      10041\n",
       "0.99        148\n",
       "2.99        129\n",
       "1.99         73\n",
       "4.99         72\n",
       "3.99         63\n",
       "1.49         46\n",
       "5.99         30\n",
       "2.49         26\n",
       "9.99         21\n",
       "6.99         13\n",
       "399.99       12\n",
       "14.99        11\n",
       "4.49          9\n",
       "29.99         7\n",
       "3.49          7\n",
       "7.99          7\n",
       "24.99         7\n",
       "5.49          6\n",
       "19.99         6\n",
       "6.49          5\n",
       "8.99          5\n",
       "12.99         5\n",
       "11.99         5\n",
       "10.00         3\n",
       "1.00          3\n",
       "16.99         3\n",
       "2.00          3\n",
       "17.99         2\n",
       "10.99         2\n",
       "9.00          2\n",
       "79.99         2\n",
       "7.49          2\n",
       "3.95          2\n",
       "33.99         2\n",
       "1.70          2\n",
       "13.99         2\n",
       "8.49          2\n",
       "39.99         2\n",
       "1.50          1\n",
       "25.99         1\n",
       "74.99         1\n",
       "15.99         1\n",
       "3.88          1\n",
       "1.76          1\n",
       "3.02          1\n",
       "400.00        1\n",
       "4.84          1\n",
       "2.50          1\n",
       "1.59          1\n",
       "1.61          1\n",
       "4.77          1\n",
       "5.00          1\n",
       "1.29          1\n",
       "379.99        1\n",
       "299.99        1\n",
       "37.99         1\n",
       "18.99         1\n",
       "389.99        1\n",
       "19.90         1\n",
       "1.75          1\n",
       "14.00         1\n",
       "4.85          1\n",
       "46.99         1\n",
       "109.99        1\n",
       "154.99        1\n",
       "3.08          1\n",
       "2.59          1\n",
       "4.80          1\n",
       "1.96          1\n",
       "19.40         1\n",
       "3.90          1\n",
       "4.59          1\n",
       "15.46         1\n",
       "3.04          1\n",
       "4.29          1\n",
       "2.60          1\n",
       "3.28          1\n",
       "4.60          1\n",
       "28.99         1\n",
       "2.95          1\n",
       "2.90          1\n",
       "1.97          1\n",
       "200.00        1\n",
       "89.99         1\n",
       "2.56          1\n",
       "30.99         1\n",
       "3.61          1\n",
       "394.99        1\n",
       "1.26          1\n",
       "1.20          1\n",
       "1.04          1\n",
       "Name: count, dtype: int64"
      ]
     },
     "execution_count": 328,
     "metadata": {},
     "output_type": "execute_result"
    }
   ],
   "source": [
    "df[\"Price\"].value_counts()"
   ]
  },
  {
   "cell_type": "markdown",
   "id": "b334082d",
   "metadata": {},
   "source": [
    "### Missing values"
   ]
  },
  {
   "cell_type": "code",
   "execution_count": 329,
   "id": "c0d8a55b",
   "metadata": {},
   "outputs": [
    {
     "data": {
      "text/plain": [
       "Size_in_bytes     1695\n",
       "Size_in_Kb        1695\n",
       "Size_in_Mb        1695\n",
       "Rating            1474\n",
       "Current Ver          8\n",
       "Android Ver          2\n",
       "Category             1\n",
       "Genres               1\n",
       "Type                 1\n",
       "App                  0\n",
       "Reviews              0\n",
       "Installs             0\n",
       "Last Updated         0\n",
       "Price                0\n",
       "Content Rating       0\n",
       "dtype: int64"
      ]
     },
     "execution_count": 329,
     "metadata": {},
     "output_type": "execute_result"
    }
   ],
   "source": [
    "# Finding the missing values\n",
    "df.isnull().sum().sort_values(ascending=False)"
   ]
  },
  {
   "cell_type": "code",
   "execution_count": 330,
   "id": "769c9181",
   "metadata": {},
   "outputs": [
    {
     "data": {
      "text/plain": [
       "Size_in_bytes     15.64\n",
       "Size_in_Kb        15.64\n",
       "Size_in_Mb        15.64\n",
       "Rating            13.60\n",
       "Current Ver        0.07\n",
       "Android Ver        0.02\n",
       "Category           0.01\n",
       "Genres             0.01\n",
       "Type               0.01\n",
       "App                0.00\n",
       "Reviews            0.00\n",
       "Installs           0.00\n",
       "Last Updated       0.00\n",
       "Price              0.00\n",
       "Content Rating     0.00\n",
       "dtype: float64"
      ]
     },
     "execution_count": 330,
     "metadata": {},
     "output_type": "execute_result"
    }
   ],
   "source": [
    "# Finding the percentage of the missing valus in the Dataset\n",
    "round(df.isnull().sum()/len(df)*100,2).sort_values(ascending=False)"
   ]
  },
  {
   "cell_type": "code",
   "execution_count": 331,
   "id": "50b20e4c",
   "metadata": {},
   "outputs": [
    {
     "data": {
      "text/plain": [
       "np.int64(6572)"
      ]
     },
     "execution_count": 331,
     "metadata": {},
     "output_type": "execute_result"
    }
   ],
   "source": [
    "# Finding the total number of the missing values\n",
    "df.isnull().sum().sum()"
   ]
  },
  {
   "cell_type": "markdown",
   "id": "809d22c0",
   "metadata": {},
   "source": [
    "### Visulization for missing values"
   ]
  },
  {
   "cell_type": "code",
   "execution_count": 336,
   "id": "c4e883f9",
   "metadata": {},
   "outputs": [
    {
     "data": {
      "text/plain": [
       "<Axes: >"
      ]
     },
     "execution_count": 336,
     "metadata": {},
     "output_type": "execute_result"
    },
    {
     "data": {
      "image/png": "[encoded data removed]",
      "text/plain": [
       "<Figure size 1600x600 with 1 Axes>"
      ]
     },
     "metadata": {},
     "output_type": "display_data"
    }
   ],
   "source": [
    "plt.figure(figsize=(16,6))\n",
    "sns.heatmap(df.isnull(),yticklabels=False,cbar=False,cmap='viridis')"
   ]
  },
  {
   "cell_type": "code",
   "execution_count": 339,
   "id": "71c22cd0",
   "metadata": {},
   "outputs": [
    {
     "data": {
      "text/plain": [
       "Text(0.5, 1.0, 'Percentage of Missisng values in each column')"
      ]
     },
     "execution_count": 339,
     "metadata": {},
     "output_type": "execute_result"
    },
    {
     "data": {
      "image/png": "[encoded data removed]",
      "text/plain": [
       "<Figure size 1600x600 with 1 Axes>"
      ]
     },
     "metadata": {},
     "output_type": "display_data"
    }
   ],
   "source": [
    "# Plot the null values by their percentage in each column\n",
    "plt.figure(figsize=(16,6))\n",
    "missing_percetage = df.isnull().sum()/len(df)*100\n",
    "missing_percetage.plot(kind='bar')\n",
    "\n",
    "# adding the lables\n",
    "plt.xlabel(\"Columns\")\n",
    "plt.ylabel(\"Percentage\")\n",
    "plt.title(\"Percentage of Missisng values in each column\")"
   ]
  },
  {
   "cell_type": "code",
   "execution_count": 341,
   "id": "3a96ac6f",
   "metadata": {},
   "outputs": [
    {
     "data": {
      "text/plain": [
       "Text(0.5, 1.0, 'Percentage of Missisng values in each column')"
      ]
     },
     "execution_count": 341,
     "metadata": {},
     "output_type": "execute_result"
    },
    {
     "data": {
      "image/png": "[encoded data removed]",
      "text/plain": [
       "<Figure size 1600x600 with 1 Axes>"
      ]
     },
     "metadata": {},
     "output_type": "display_data"
    }
   ],
   "source": [
    "# Now the plot of the missing_percentage less than 1\n",
    "\n",
    "plt.figure(figsize=(16,6))\n",
    "missing_percetage[missing_percetage < 1].plot(kind=\"bar\")\n",
    "\n",
    "# adding the lables\n",
    "plt.xlabel(\"Columns\")\n",
    "plt.ylabel(\"Percentage\")\n",
    "plt.title(\"Percentage of Missisng values in each column\")"
   ]
  }
 ],
 "metadata": {
  "kernelspec": {
   "display_name": "python_eda",
   "language": "python",
   "name": "python3"
  },
  "language_info": {
   "codemirror_mode": {
    "name": "ipython",
    "version": 3
   },
   "file_extension": ".py",
   "mimetype": "text/x-python",
   "name": "python",
   "nbconvert_exporter": "python",
   "pygments_lexer": "ipython3",
   "version": "3.13.2"
  }
 },
 "nbformat": 4,
 "nbformat_minor": 5
}
