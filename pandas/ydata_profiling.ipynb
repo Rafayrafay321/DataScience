{
 "cells": [
  {
   "cell_type": "markdown",
   "id": "6f364d17",
   "metadata": {},
   "source": [
    "# Automatic EDA using ydata_profiling"
   ]
  },
  {
   "cell_type": "code",
   "execution_count": 2,
   "id": "98adbf32",
   "metadata": {},
   "outputs": [],
   "source": [
    "import pandas as pd\n",
    "import seaborn as sns\n",
    "import ydata_profiling as yd"
   ]
  },
  {
   "cell_type": "code",
   "execution_count": 4,
   "id": "a5f82cf4",
   "metadata": {},
   "outputs": [],
   "source": [
    "# Importing the data from the seaborn\n",
    "\n",
    "df = sns.load_dataset(\"titanic\")"
   ]
  },
  {
   "cell_type": "code",
   "execution_count": 7,
   "id": "cbdb4b70",
   "metadata": {},
   "outputs": [
    {
     "name": "stderr",
     "output_type": "stream",
     "text": [
      "100%|██████████| 15/15 [00:00<00:00, 33.41it/s]0<00:00, 11.59it/s, Describe variable: alone]     \n",
      "Summarize dataset: 100%|██████████| 41/41 [00:08<00:00,  4.77it/s, Completed]                 \n",
      "Generate report structure: 100%|██████████| 1/1 [00:07<00:00,  7.41s/it]\n",
      "Render HTML: 100%|██████████| 1/1 [00:04<00:00,  4.34s/it]\n",
      "Export report to file: 100%|██████████| 1/1 [00:00<00:00, 47.04it/s]\n"
     ]
    }
   ],
   "source": [
    "# Y data-Profiling report\n",
    "profile = yd.ProfileReport(df)\n",
    "profile.to_file(output_file = \"./Outputs/ydata_titanic.html\")"
   ]
  },
  {
   "cell_type": "code",
   "execution_count": 8,
   "id": "1aa80870",
   "metadata": {},
   "outputs": [],
   "source": [
    "df2 = pd.read_csv(\"./Datasets/pak_data.csv\")"
   ]
  },
  {
   "cell_type": "code",
   "execution_count": null,
   "id": "c85020f6",
   "metadata": {},
   "outputs": [
    {
     "name": "stderr",
     "output_type": "stream",
     "text": [
      "100%|██████████| 21/21 [00:00<00:00, 33.68it/s]0<00:00, 21.07it/s, Describe variable: ANNUAL GROWTH RATE (URBAN)]\n",
      "Summarize dataset: 100%|██████████| 319/319 [02:33<00:00,  2.08it/s, Completed]                                                     \n",
      "Generate report structure: 100%|██████████| 1/1 [00:21<00:00, 21.17s/it]\n",
      "Render HTML:   0%|          | 0/1 [00:00<?, ?it/s]"
     ]
    }
   ],
   "source": [
    "# Y-data profiling for the Pak data\n",
    "profile2 = yd.ProfileReport(df2)\n",
    "profile2.to_file(output_file=\"./Outputs/pak_data.html\")"
   ]
  }
 ],
 "metadata": {
  "kernelspec": {
   "display_name": "ydata_profiling",
   "language": "python",
   "name": "python3"
  },
  "language_info": {
   "codemirror_mode": {
    "name": "ipython",
    "version": 3
   },
   "file_extension": ".py",
   "mimetype": "text/x-python",
   "name": "python",
   "nbconvert_exporter": "python",
   "pygments_lexer": "ipython3",
   "version": "3.10.16"
  }
 },
 "nbformat": 4,
 "nbformat_minor": 5
}
